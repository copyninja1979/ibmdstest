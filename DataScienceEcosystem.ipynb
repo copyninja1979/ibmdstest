{
 "cells": [
  {
   "cell_type": "markdown",
   "id": "33aafce4",
   "metadata": {},
   "source": [
    "# Data Science Tools and Ecosystem"
   ]
  },
  {
   "cell_type": "markdown",
   "id": "2b78b7d5",
   "metadata": {},
   "source": [
    "In this notebook, Data Science Tools and Ecosystem are summarized."
   ]
  },
  {
   "cell_type": "markdown",
   "id": "168adff5",
   "metadata": {},
   "source": [
    "Some of the popular languages that Data Scientists use are:\n",
    "1. Python\n",
    "2. R\n",
    "3. JavaScript\n",
    "4. C++"
   ]
  },
  {
   "cell_type": "markdown",
   "id": "260a0c0c",
   "metadata": {},
   "source": [
    "Some of the commonly used libraries used by Data Scientists include:\n",
    "1. ggplot\n",
    "2. tidyverse\n",
    "3. caret\n",
    "4. dplyr"
   ]
  },
  {
   "cell_type": "markdown",
   "id": "cb950b5d",
   "metadata": {},
   "source": [
    "|Data Science Tools|\n",
    "|:-----------------|\n",
    "|Hadoop            |\n",
    "|MySQL             |\n",
    "|R Studio          |"
   ]
  },
  {
   "cell_type": "markdown",
   "id": "c71cadd3",
   "metadata": {},
   "source": [
    "### Below are a few examples of evaluating arithmetic expressions in Python"
   ]
  },
  {
   "cell_type": "code",
   "execution_count": 11,
   "id": "3e3ca7ad",
   "metadata": {},
   "outputs": [
    {
     "data": {
      "text/plain": [
       "17"
      ]
     },
     "execution_count": 11,
     "metadata": {},
     "output_type": "execute_result"
    }
   ],
   "source": [
    "# This a simple arithmetic expression to mutiply then add integers #\n",
    "(3*4)+5"
   ]
  },
  {
   "cell_type": "code",
   "execution_count": 12,
   "id": "be34011a",
   "metadata": {},
   "outputs": [
    {
     "data": {
      "text/plain": [
       "3.3333333333333335"
      ]
     },
     "execution_count": 12,
     "metadata": {},
     "output_type": "execute_result"
    }
   ],
   "source": [
    "# This will convert 200 minutes to hours by diving by 60 #\n",
    "200 / 60"
   ]
  },
  {
   "cell_type": "markdown",
   "id": "7c34420f",
   "metadata": {},
   "source": [
    "**Objectives:**\n",
    "\n",
    "- Create a Jupyter Notebook\n",
    "- Insert code and markdown cells\n",
    "- Share your notebook through GitHub\n",
    "- List popular languages for Data Science\n"
   ]
  },
  {
   "cell_type": "markdown",
   "id": "565dbe35",
   "metadata": {},
   "source": [
    "## Author ##\n",
    "\n",
    "CARLO CEASAR A. RAMA"
   ]
  },
  {
   "cell_type": "code",
   "execution_count": null,
   "id": "da66f2ae",
   "metadata": {},
   "outputs": [],
   "source": []
  }
 ],
 "metadata": {
  "kernelspec": {
   "display_name": "Python 3 (ipykernel)",
   "language": "python",
   "name": "python3"
  },
  "language_info": {
   "codemirror_mode": {
    "name": "ipython",
    "version": 3
   },
   "file_extension": ".py",
   "mimetype": "text/x-python",
   "name": "python",
   "nbconvert_exporter": "python",
   "pygments_lexer": "ipython3",
   "version": "3.10.9"
  }
 },
 "nbformat": 4,
 "nbformat_minor": 5
}
